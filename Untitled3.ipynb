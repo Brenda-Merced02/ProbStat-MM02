{
  "nbformat": 4,
  "nbformat_minor": 0,
  "metadata": {
    "colab": {
      "name": "Untitled3.ipynb",
      "provenance": [],
      "authorship_tag": "ABX9TyMqEC9hXFPRqlBJa9RqLEzS",
      "include_colab_link": true
    },
    "kernelspec": {
      "name": "python3",
      "display_name": "Python 3"
    },
    "language_info": {
      "name": "python"
    }
  },
  "cells": [
    {
      "cell_type": "markdown",
      "metadata": {
        "id": "view-in-github",
        "colab_type": "text"
      },
      "source": [
        "<a href=\"https://colab.research.google.com/github/Brenda-Merced02/ProbStat-MM02/blob/main/Untitled3.ipynb\" target=\"_parent\"><img src=\"https://colab.research.google.com/assets/colab-badge.svg\" alt=\"Open In Colab\"/></a>"
      ]
    },
    {
      "cell_type": "code",
      "metadata": {
        "id": "7UqI3-fvA9Eq"
      },
      "source": [
        ""
      ],
      "execution_count": null,
      "outputs": []
    },
    {
      "cell_type": "markdown",
      "metadata": {
        "id": "tnKGbF4MBAmO"
      },
      "source": [
        "# **Python![Python.jpg](data:image/jpeg;base64,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)**"
      ]
    },
    {
      "cell_type": "markdown",
      "metadata": {
        "id": "_08JXFPLBbAT"
      },
      "source": [
        "# *The history of Python*\n",
        "The history of Python as a programming language begins in the late 80s and early 90s with Guido Van Rossum, a history of 29 years of development.\n",
        "On a Christmas 1989, Guido Van Rossum, who worked at the CWI (a Dutch research center), decided to start a project as a hobby by giving continuity to ABC, a programming language developed at the CWI.\n",
        "ABC was developed in the early 80s as an alternative to BASIC, and was intended for beginners because of its ease of learning and use. Its code was compact but readable.\n",
        "The project did not transcend as the hardware available at the time made it difficult to use. So Van Rossum gave him a second life creating Python.\n",
        "A Guido Van Rossum le gustaba mucho el grupo Monty Python, por esta razón escogió el nombre del lenguaje. Actualmente Van Rossum sigue ejerciendo el rol central decidiendo la dirección de Python.\n",
        "In 1991, Van Rossum published the 0.9.0 code in alt.sources. In this release we already had classes with inheritance, exception handling, functions, and modular types available.\n",
        "This release contains a system of modules adopted from modula-3, a structured and modular programming language, which Guido describes as one of the largest Python programming units. For example, the Python exception model is similar to modula-3.\n",
        "In 1994, comp.lang.python was created, a Python discussion forum that marked a milestone in its popularity and multiplied its number of users.\n",
        "One of the most impressive projects written in Python is the Dropbox server, (where Guido works today) that serves millions of people today. Another incredible use is by the scientific community as a tool for Machine Learning.\n",
        "\n"
      ]
    },
    {
      "cell_type": "markdown",
      "metadata": {
        "id": "Ue8mmyJdCOFJ"
      },
      "source": [
        "# *Print statement*\n",
        "The print() function prints the specified message to the screen, or other standard output device.\n",
        "The message can be a string, or any other object, the object will be converted into a string before written to the screen.\n",
        "\n",
        "The print statement evaluates each expression which is separated with a comma. If an expression is not a string, it will be converted into a string and then displayed. And the print statement is always followed by a newline unless it ends with a comma.\n",
        "\n",
        "Another method of printing a string and variable is by using string formatting operators. In this method, the print statement uses the % operator in the message. It defines the message along with a special % character.\n",
        "The % operator defines the data type of the variable. Different letters are used to define different data types. For example, if the variable is a decimal, we will use the %d operator. If it is a string, we will use the %s operator, and so on.\n",
        "\n",
        "Below is an example code to explain the concept of using a string formatting operator to print a string and variable in Python.\n",
        "\n",
        "grade = \"A\"\n",
        "\n",
        "marks = 90\n",
        "\n",
        "print(\"John doe obtained %s grade with %d marks.\" % (grade,marks))\n",
        "\n",
        "Output:\n",
        "\n",
        "John doe obtained A grade with 90 marks.\n",
        "\n"
      ]
    },
    {
      "cell_type": "markdown",
      "metadata": {
        "id": "tu7E69xOD_pM"
      },
      "source": [
        "# *if-else statement*\n",
        "An if else Python statement evaluates whether an expression is true or false. If a condition is true, the “if” statement executes. Otherwise, the “else” statement executes. Python if else statements help coders control the flow of their programs.\n",
        "\n",
        "When you’re writing a program, you may want a block of code to run only when a certain condition is met. That’s where conditional statements come in. Conditional statements allow you to control the flow of your program more effectively.\n",
        "\n",
        "Python supports the usual logical conditions from mathematics:\n",
        "\n",
        "•\tEquals: a == b\n",
        "\n",
        "•\tNot Equals: a != b\n",
        "\n",
        "•\tLess than: a < b\n",
        "\n",
        "•\tLess than or equal to: a <= b\n",
        "\n",
        "•\tGreater than: a > b\n",
        "\n",
        "•\tGreater than or equal to: a >= b\n",
        "These conditions can be used in several ways, most commonly in \"if statements\" and loops.\n",
        "An \"if statement\" is written by using the if keyword.\n",
        "\n",
        "#Example\n",
        "If statement:\n",
        "\n",
        "a = 33\n",
        "\n",
        "b = 200\n",
        "\n",
        "if b > a:\n",
        "\n",
        "  print(\"b is greater than a\")\n",
        "In this example we use two variables, a and b, which are used as part of the if statement to test whether b is greater than a. As a is 33, and b is 200, we know that 200 is greater than 33, and so we print to screen that \"b is greater than a\".\n",
        "\n",
        "The else keyword catches anything which isn't caught by the preceding conditions.\n",
        "\n",
        "a = 200\n",
        "\n",
        "b = 33\n",
        "\n",
        "if b > a:\n",
        "\n",
        "  print(\"b is greater than a\")\n",
        "\n",
        "elif a == b:\n",
        "\n",
        "  print(\"a and b are equal\")\n",
        "\n",
        "else:\n",
        "\n",
        "  print(\"a is greater than b\")\n",
        "In this example a is greater than b, so the first condition is not true, also the elif condition is not true, so we go to the else condition and print to screen that \"a is greater than b\".\n",
        "\n",
        "\n",
        "\n"
      ]
    },
    {
      "cell_type": "markdown",
      "metadata": {
        "id": "7Cu5Ris4HnGt"
      },
      "source": [
        "# *Loops*\n",
        "In general, statements are executed sequentially: The first statement in a function is executed first, followed by the second, and so on. There may be a situation when you need to execute a block of code several number of times.\n",
        "Programming languages provide various control structures that allow for more complicated execution paths.\n",
        "\n",
        "A loop statement allows us to execute a statement or group of statements multiple times. The following diagram illustrates a loop statement:\n",
        "\n",
        "![Condition.jpg](data:image/jpeg;base64,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)\n",
        "\n",
        "Python programming language provides following types of loops:\n",
        "\n",
        "While loop: Repeats a statement or group of statements while a given condition is TRUE. It tests the condition before executing the loop body.\n",
        "\n",
        "For loop: Executes a sequence of statements multiple times and abbreviates the code that manages the loop variable.\n",
        "\n",
        "Nested loops: You can use one or more loop inside any another while, for or do...while loop.\n"
      ]
    },
    {
      "cell_type": "markdown",
      "metadata": {
        "id": "ghjQJVj3JDlm"
      },
      "source": [
        "Merced Rojas Brenda Marlen "
      ]
    }
  ]
}